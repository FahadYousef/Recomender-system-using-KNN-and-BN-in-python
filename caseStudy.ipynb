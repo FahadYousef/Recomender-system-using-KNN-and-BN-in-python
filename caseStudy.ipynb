{
 "cells": [
  {
   "cell_type": "markdown",
   "metadata": {},
   "source": [
    "#  Two types of Recommender System are performed here:\n",
    "# 1- popularity based: use meta data such as genres, producer and actor to recommend movies.\n",
    "# 2- Collaborative Filtering: the behavior of a group of users is used to make a recommendations to other users.\n",
    "# There are two categories of Collaborative Filtering:\n",
    "# 1- User-based: In this model products are recommended to a user based on the fact that the products have been liked by users similar to the user.\n",
    "\n",
    "# 2- Item-based: This system identifies similar items based on user's previous ratings.\n"
   ]
  },
  {
   "cell_type": "code",
   "execution_count": 1,
   "metadata": {
    "collapsed": true
   },
   "outputs": [],
   "source": [
    "import pandas as pd\n",
    "import numpy as np\n",
    "import graphlab\n",
    "import graphlab as gl\n",
    "from graphlab import SFrame\n",
    "import matplotlib as mpl\n",
    "mpl.use('TkAgg')\n",
    "from matplotlib import pyplot as plt"
   ]
  },
  {
   "cell_type": "code",
   "execution_count": 2,
   "metadata": {
    "collapsed": false
   },
   "outputs": [
    {
     "name": "stdout",
     "output_type": "stream",
     "text": [
      "<class 'pandas.core.frame.DataFrame'>\n",
      "RangeIndex: 100000 entries, 0 to 99999\n",
      "Data columns (total 3 columns):\n",
      "user_id    100000 non-null int64\n",
      "item_id    100000 non-null int64\n",
      "rating     100000 non-null int64\n",
      "dtypes: int64(3)\n",
      "memory usage: 2.3 MB\n",
      "__________________________________________________\n",
      "100000\n",
      "1682\n",
      "943\n",
      "__________________________________________________\n"
     ]
    }
   ],
   "source": [
    "\n",
    "col_names = [\"user_id\", \"item_id\", \"rating\", \"timestamp\"]\n",
    "data = pd.read_table(\"u.data\", names=col_names)\n",
    "data = data.drop(\"timestamp\", 1)\n",
    "data.info()\n",
    "plt.hist(data[\"rating\"])\n",
    "plt.show()\n",
    "Number_Ratings = len(data)\n",
    "Number_Movies = len(np.unique(data[\"item_id\"]))\n",
    "Number_Users = len(np.unique(data[\"user_id\"]))\n",
    "print(\"__________________________________________________\")\n",
    "print(Number_Ratings)\n",
    "print(Number_Movies)\n",
    "print(Number_Users)\n",
    "print(\"__________________________________________________\")"
   ]
  },
  {
   "cell_type": "markdown",
   "metadata": {},
   "source": [
    "# Here we splite the data into train and test, train gets 70% of the data and test gets 30% of the data."
   ]
  },
  {
   "cell_type": "code",
   "execution_count": 3,
   "metadata": {
    "collapsed": true
   },
   "outputs": [],
   "source": [
    "from sklearn.cross_validation import train_test_split\n",
    "train, test = train_test_split(data, test_size = 0.3)"
   ]
  },
  {
   "cell_type": "markdown",
   "metadata": {},
   "source": [
    "# Here I'm using SFrame to scale the data.\n",
    "# SFrame is a tabular, column-mutable dataframe object that can scale to big data, which allows you to work with datasets that are larger than the amount of RAM on your system"
   ]
  },
  {
   "cell_type": "code",
   "execution_count": 4,
   "metadata": {
    "collapsed": false
   },
   "outputs": [
    {
     "name": "stdout",
     "output_type": "stream",
     "text": [
      "This non-commercial license of GraphLab Create for academic use is assigned to 215028172@student.kfu.edu.sa and will expire on November 06, 2019.\n"
     ]
    },
    {
     "name": "stderr",
     "output_type": "stream",
     "text": [
      "[INFO] graphlab.cython.cy_server: GraphLab Create v2.1 started. Logging: C:\\Users\\Acer\\AppData\\Local\\Temp\\graphlab_server_1544488322.log.0\n"
     ]
    },
    {
     "data": {
      "text/html": [
       "<pre>Finished parsing file C:\\Users\\Acer\\Anaconda2\\u.csv</pre>"
      ],
      "text/plain": [
       "Finished parsing file C:\\Users\\Acer\\Anaconda2\\u.csv"
      ]
     },
     "metadata": {},
     "output_type": "display_data"
    },
    {
     "data": {
      "text/html": [
       "<pre>Parsing completed. Parsed 100 lines in 0.158049 secs.</pre>"
      ],
      "text/plain": [
       "Parsing completed. Parsed 100 lines in 0.158049 secs."
      ]
     },
     "metadata": {},
     "output_type": "display_data"
    },
    {
     "name": "stdout",
     "output_type": "stream",
     "text": [
      "------------------------------------------------------\n",
      "Inferred types from first 100 line(s) of file as \n",
      "column_type_hints=[str]\n",
      "If parsing fails due to incorrect types, you can correct\n",
      "the inferred type list above and pass it to read_csv in\n",
      "the column_type_hints argument\n",
      "------------------------------------------------------\n"
     ]
    },
    {
     "data": {
      "text/html": [
       "<pre>Finished parsing file C:\\Users\\Acer\\Anaconda2\\u.csv</pre>"
      ],
      "text/plain": [
       "Finished parsing file C:\\Users\\Acer\\Anaconda2\\u.csv"
      ]
     },
     "metadata": {},
     "output_type": "display_data"
    },
    {
     "data": {
      "text/html": [
       "<pre>Parsing completed. Parsed 99999 lines in 0.1218 secs.</pre>"
      ],
      "text/plain": [
       "Parsing completed. Parsed 99999 lines in 0.1218 secs."
      ]
     },
     "metadata": {},
     "output_type": "display_data"
    }
   ],
   "source": [
    "import pandas\n",
    "df = pandas.DataFrame()\n",
    "sf = SFrame(data=df)\n",
    "sf = SFrame(data='u.csv')"
   ]
  },
  {
   "cell_type": "markdown",
   "metadata": {},
   "source": [
    "# In popularity when no target column is provided, the popularity is determined by the number of observations involving each item. When a target is provided, popularity is computed using the item’s mean target value"
   ]
  },
  {
   "cell_type": "code",
   "execution_count": 5,
   "metadata": {
    "collapsed": false
   },
   "outputs": [
    {
     "name": "stdout",
     "output_type": "stream",
     "text": [
      "___________________popularity___________________\n"
     ]
    },
    {
     "data": {
      "text/html": [
       "<pre>Recsys training: model = popularity</pre>"
      ],
      "text/plain": [
       "Recsys training: model = popularity"
      ]
     },
     "metadata": {},
     "output_type": "display_data"
    },
    {
     "data": {
      "text/html": [
       "<pre>Preparing data set.</pre>"
      ],
      "text/plain": [
       "Preparing data set."
      ]
     },
     "metadata": {},
     "output_type": "display_data"
    },
    {
     "data": {
      "text/html": [
       "<pre>    Data has 70000 observations with 943 users and 1625 items.</pre>"
      ],
      "text/plain": [
       "    Data has 70000 observations with 943 users and 1625 items."
      ]
     },
     "metadata": {},
     "output_type": "display_data"
    },
    {
     "data": {
      "text/html": [
       "<pre>    Data prepared in: 0.098818s</pre>"
      ],
      "text/plain": [
       "    Data prepared in: 0.098818s"
      ]
     },
     "metadata": {},
     "output_type": "display_data"
    },
    {
     "data": {
      "text/html": [
       "<pre>70000 observations to process; with 1625 unique items.</pre>"
      ],
      "text/plain": [
       "70000 observations to process; with 1625 unique items."
      ]
     },
     "metadata": {},
     "output_type": "display_data"
    },
    {
     "name": "stdout",
     "output_type": "stream",
     "text": [
      "+---------+---------+-------+------+\n",
      "| user_id | item_id | score | rank |\n",
      "+---------+---------+-------+------+\n",
      "|    1    |   1491  |  5.0  |  1   |\n",
      "|    1    |   1189  |  5.0  |  2   |\n",
      "|    1    |   1653  |  5.0  |  3   |\n",
      "|    1    |   1358  |  5.0  |  4   |\n",
      "|    1    |   119   |  5.0  |  5   |\n",
      "|    2    |   1491  |  5.0  |  1   |\n",
      "|    2    |   1189  |  5.0  |  2   |\n",
      "|    2    |   1653  |  5.0  |  3   |\n",
      "|    2    |   1358  |  5.0  |  4   |\n",
      "|    2    |   119   |  5.0  |  5   |\n",
      "|    3    |   1491  |  5.0  |  1   |\n",
      "|    3    |   1189  |  5.0  |  2   |\n",
      "|    3    |   1653  |  5.0  |  3   |\n",
      "|    3    |   1358  |  5.0  |  4   |\n",
      "|    3    |   119   |  5.0  |  5   |\n",
      "|    4    |   1491  |  5.0  |  1   |\n",
      "|    4    |   1189  |  5.0  |  2   |\n",
      "|    4    |   1653  |  5.0  |  3   |\n",
      "|    4    |   1358  |  5.0  |  4   |\n",
      "|    4    |   119   |  5.0  |  5   |\n",
      "|    5    |   1491  |  5.0  |  1   |\n",
      "|    5    |   1189  |  5.0  |  2   |\n",
      "|    5    |   1653  |  5.0  |  3   |\n",
      "|    5    |   1358  |  5.0  |  4   |\n",
      "|    5    |   119   |  5.0  |  5   |\n",
      "+---------+---------+-------+------+\n",
      "[25 rows x 4 columns]\n",
      "\n"
     ]
    }
   ],
   "source": [
    "print(\"___________________popularity___________________\")\n",
    "   \n",
    "popularity_model=graphlab.recommender.popularity_recommender.create(SFrame(train), user_id='user_id',\n",
    "item_id='item_id', target='rating', user_data=None, item_data=None, random_seed=0, \n",
    "verbose=True)\n",
    "popularity_recomm = popularity_model.recommend(users=[1,2,3,4,5],k=5)\n",
    "popularity_recomm.print_rows(num_rows=25)"
   ]
  },
  {
   "cell_type": "markdown",
   "metadata": {},
   "source": [
    "# The idea behind factorization is to represent users and items in a lower dimensional latent space, by using matrix factorization as well as factorization machines models"
   ]
  },
  {
   "cell_type": "code",
   "execution_count": 6,
   "metadata": {
    "collapsed": false
   },
   "outputs": [
    {
     "name": "stdout",
     "output_type": "stream",
     "text": [
      "_________________facrorization____________________\n"
     ]
    },
    {
     "data": {
      "text/html": [
       "<pre>Recsys training: model = factorization_recommender</pre>"
      ],
      "text/plain": [
       "Recsys training: model = factorization_recommender"
      ]
     },
     "metadata": {},
     "output_type": "display_data"
    },
    {
     "data": {
      "text/html": [
       "<pre>Preparing data set.</pre>"
      ],
      "text/plain": [
       "Preparing data set."
      ]
     },
     "metadata": {},
     "output_type": "display_data"
    },
    {
     "data": {
      "text/html": [
       "<pre>    Data has 70000 observations with 943 users and 1625 items.</pre>"
      ],
      "text/plain": [
       "    Data has 70000 observations with 943 users and 1625 items."
      ]
     },
     "metadata": {},
     "output_type": "display_data"
    },
    {
     "data": {
      "text/html": [
       "<pre>    Data prepared in: 0.080289s</pre>"
      ],
      "text/plain": [
       "    Data prepared in: 0.080289s"
      ]
     },
     "metadata": {},
     "output_type": "display_data"
    },
    {
     "data": {
      "text/html": [
       "<pre>Training factorization_recommender for recommendations.</pre>"
      ],
      "text/plain": [
       "Training factorization_recommender for recommendations."
      ]
     },
     "metadata": {},
     "output_type": "display_data"
    },
    {
     "data": {
      "text/html": [
       "<pre>+--------------------------------+--------------------------------------------------+----------+</pre>"
      ],
      "text/plain": [
       "+--------------------------------+--------------------------------------------------+----------+"
      ]
     },
     "metadata": {},
     "output_type": "display_data"
    },
    {
     "data": {
      "text/html": [
       "<pre>| Parameter                      | Description                                      | Value    |</pre>"
      ],
      "text/plain": [
       "| Parameter                      | Description                                      | Value    |"
      ]
     },
     "metadata": {},
     "output_type": "display_data"
    },
    {
     "data": {
      "text/html": [
       "<pre>+--------------------------------+--------------------------------------------------+----------+</pre>"
      ],
      "text/plain": [
       "+--------------------------------+--------------------------------------------------+----------+"
      ]
     },
     "metadata": {},
     "output_type": "display_data"
    },
    {
     "data": {
      "text/html": [
       "<pre>| num_factors                    | Factor Dimension                                 | 8        |</pre>"
      ],
      "text/plain": [
       "| num_factors                    | Factor Dimension                                 | 8        |"
      ]
     },
     "metadata": {},
     "output_type": "display_data"
    },
    {
     "data": {
      "text/html": [
       "<pre>| regularization                 | L2 Regularization on Factors                     | 1e-008   |</pre>"
      ],
      "text/plain": [
       "| regularization                 | L2 Regularization on Factors                     | 1e-008   |"
      ]
     },
     "metadata": {},
     "output_type": "display_data"
    },
    {
     "data": {
      "text/html": [
       "<pre>| solver                         | Solver used for training                         | sgd      |</pre>"
      ],
      "text/plain": [
       "| solver                         | Solver used for training                         | sgd      |"
      ]
     },
     "metadata": {},
     "output_type": "display_data"
    },
    {
     "data": {
      "text/html": [
       "<pre>| linear_regularization          | L2 Regularization on Linear Coefficients         | 1e-010   |</pre>"
      ],
      "text/plain": [
       "| linear_regularization          | L2 Regularization on Linear Coefficients         | 1e-010   |"
      ]
     },
     "metadata": {},
     "output_type": "display_data"
    },
    {
     "data": {
      "text/html": [
       "<pre>| max_iterations                 | Maximum Number of Iterations                     | 50       |</pre>"
      ],
      "text/plain": [
       "| max_iterations                 | Maximum Number of Iterations                     | 50       |"
      ]
     },
     "metadata": {},
     "output_type": "display_data"
    },
    {
     "data": {
      "text/html": [
       "<pre>+--------------------------------+--------------------------------------------------+----------+</pre>"
      ],
      "text/plain": [
       "+--------------------------------+--------------------------------------------------+----------+"
      ]
     },
     "metadata": {},
     "output_type": "display_data"
    },
    {
     "data": {
      "text/html": [
       "<pre>  Optimizing model using SGD; tuning step size.</pre>"
      ],
      "text/plain": [
       "  Optimizing model using SGD; tuning step size."
      ]
     },
     "metadata": {},
     "output_type": "display_data"
    },
    {
     "data": {
      "text/html": [
       "<pre>  Using 10000 / 70000 points for tuning the step size.</pre>"
      ],
      "text/plain": [
       "  Using 10000 / 70000 points for tuning the step size."
      ]
     },
     "metadata": {},
     "output_type": "display_data"
    },
    {
     "data": {
      "text/html": [
       "<pre>+---------+-------------------+------------------------------------------+</pre>"
      ],
      "text/plain": [
       "+---------+-------------------+------------------------------------------+"
      ]
     },
     "metadata": {},
     "output_type": "display_data"
    },
    {
     "data": {
      "text/html": [
       "<pre>| Attempt | Initial Step Size | Estimated Objective Value                |</pre>"
      ],
      "text/plain": [
       "| Attempt | Initial Step Size | Estimated Objective Value                |"
      ]
     },
     "metadata": {},
     "output_type": "display_data"
    },
    {
     "data": {
      "text/html": [
       "<pre>+---------+-------------------+------------------------------------------+</pre>"
      ],
      "text/plain": [
       "+---------+-------------------+------------------------------------------+"
      ]
     },
     "metadata": {},
     "output_type": "display_data"
    },
    {
     "data": {
      "text/html": [
       "<pre>| 0       | 25                | Not Viable                               |</pre>"
      ],
      "text/plain": [
       "| 0       | 25                | Not Viable                               |"
      ]
     },
     "metadata": {},
     "output_type": "display_data"
    },
    {
     "data": {
      "text/html": [
       "<pre>| 1       | 6.25              | Not Viable                               |</pre>"
      ],
      "text/plain": [
       "| 1       | 6.25              | Not Viable                               |"
      ]
     },
     "metadata": {},
     "output_type": "display_data"
    },
    {
     "data": {
      "text/html": [
       "<pre>| 2       | 1.5625            | Not Viable                               |</pre>"
      ],
      "text/plain": [
       "| 2       | 1.5625            | Not Viable                               |"
      ]
     },
     "metadata": {},
     "output_type": "display_data"
    },
    {
     "data": {
      "text/html": [
       "<pre>| 3       | 0.390625          | Not Viable                               |</pre>"
      ],
      "text/plain": [
       "| 3       | 0.390625          | Not Viable                               |"
      ]
     },
     "metadata": {},
     "output_type": "display_data"
    },
    {
     "data": {
      "text/html": [
       "<pre>| 4       | 0.0976562         | 0.674685                                 |</pre>"
      ],
      "text/plain": [
       "| 4       | 0.0976562         | 0.674685                                 |"
      ]
     },
     "metadata": {},
     "output_type": "display_data"
    },
    {
     "data": {
      "text/html": [
       "<pre>| 5       | 0.0488281         | 0.70122                                  |</pre>"
      ],
      "text/plain": [
       "| 5       | 0.0488281         | 0.70122                                  |"
      ]
     },
     "metadata": {},
     "output_type": "display_data"
    },
    {
     "data": {
      "text/html": [
       "<pre>| 6       | 0.0244141         | 0.754635                                 |</pre>"
      ],
      "text/plain": [
       "| 6       | 0.0244141         | 0.754635                                 |"
      ]
     },
     "metadata": {},
     "output_type": "display_data"
    },
    {
     "data": {
      "text/html": [
       "<pre>| 7       | 0.012207          | 0.828653                                 |</pre>"
      ],
      "text/plain": [
       "| 7       | 0.012207          | 0.828653                                 |"
      ]
     },
     "metadata": {},
     "output_type": "display_data"
    },
    {
     "data": {
      "text/html": [
       "<pre>+---------+-------------------+------------------------------------------+</pre>"
      ],
      "text/plain": [
       "+---------+-------------------+------------------------------------------+"
      ]
     },
     "metadata": {},
     "output_type": "display_data"
    },
    {
     "data": {
      "text/html": [
       "<pre>| Final   | 0.0976562         | 0.674685                                 |</pre>"
      ],
      "text/plain": [
       "| Final   | 0.0976562         | 0.674685                                 |"
      ]
     },
     "metadata": {},
     "output_type": "display_data"
    },
    {
     "data": {
      "text/html": [
       "<pre>+---------+-------------------+------------------------------------------+</pre>"
      ],
      "text/plain": [
       "+---------+-------------------+------------------------------------------+"
      ]
     },
     "metadata": {},
     "output_type": "display_data"
    },
    {
     "data": {
      "text/html": [
       "<pre>Starting Optimization.</pre>"
      ],
      "text/plain": [
       "Starting Optimization."
      ]
     },
     "metadata": {},
     "output_type": "display_data"
    },
    {
     "data": {
      "text/html": [
       "<pre>+---------+--------------+-------------------+-----------------------+-------------+</pre>"
      ],
      "text/plain": [
       "+---------+--------------+-------------------+-----------------------+-------------+"
      ]
     },
     "metadata": {},
     "output_type": "display_data"
    },
    {
     "data": {
      "text/html": [
       "<pre>| Iter.   | Elapsed Time | Approx. Objective | Approx. Training RMSE | Step Size   |</pre>"
      ],
      "text/plain": [
       "| Iter.   | Elapsed Time | Approx. Objective | Approx. Training RMSE | Step Size   |"
      ]
     },
     "metadata": {},
     "output_type": "display_data"
    },
    {
     "data": {
      "text/html": [
       "<pre>+---------+--------------+-------------------+-----------------------+-------------+</pre>"
      ],
      "text/plain": [
       "+---------+--------------+-------------------+-----------------------+-------------+"
      ]
     },
     "metadata": {},
     "output_type": "display_data"
    },
    {
     "data": {
      "text/html": [
       "<pre>| Initial | 0us          | 1.26451           | 1.12451               |             |</pre>"
      ],
      "text/plain": [
       "| Initial | 0us          | 1.26451           | 1.12451               |             |"
      ]
     },
     "metadata": {},
     "output_type": "display_data"
    },
    {
     "data": {
      "text/html": [
       "<pre>+---------+--------------+-------------------+-----------------------+-------------+</pre>"
      ],
      "text/plain": [
       "+---------+--------------+-------------------+-----------------------+-------------+"
      ]
     },
     "metadata": {},
     "output_type": "display_data"
    },
    {
     "data": {
      "text/html": [
       "<pre>| 1       | 46.875ms     | 1.07396           | 1.03632               | 0.0976562   |</pre>"
      ],
      "text/plain": [
       "| 1       | 46.875ms     | 1.07396           | 1.03632               | 0.0976562   |"
      ]
     },
     "metadata": {},
     "output_type": "display_data"
    },
    {
     "data": {
      "text/html": [
       "<pre>| 2       | 90.751ms     | 0.929207          | 0.96395               | 0.0580668   |</pre>"
      ],
      "text/plain": [
       "| 2       | 90.751ms     | 0.929207          | 0.96395               | 0.0580668   |"
      ]
     },
     "metadata": {},
     "output_type": "display_data"
    },
    {
     "data": {
      "text/html": [
       "<pre>| 3       | 118.758ms    | 0.84785           | 0.920783              | 0.042841    |</pre>"
      ],
      "text/plain": [
       "| 3       | 118.758ms    | 0.84785           | 0.920783              | 0.042841    |"
      ]
     },
     "metadata": {},
     "output_type": "display_data"
    },
    {
     "data": {
      "text/html": [
       "<pre>| 4       | 165.636ms    | 0.776061          | 0.880936              | 0.0345267   |</pre>"
      ],
      "text/plain": [
       "| 4       | 165.636ms    | 0.776061          | 0.880936              | 0.0345267   |"
      ]
     },
     "metadata": {},
     "output_type": "display_data"
    },
    {
     "data": {
      "text/html": [
       "<pre>| 5       | 208.743ms    | 0.709038          | 0.842034              | 0.029206    |</pre>"
      ],
      "text/plain": [
       "| 5       | 208.743ms    | 0.709038          | 0.842034              | 0.029206    |"
      ]
     },
     "metadata": {},
     "output_type": "display_data"
    },
    {
     "data": {
      "text/html": [
       "<pre>| 6       | 252.342ms    | 0.658611          | 0.811536              | 0.0254734   |</pre>"
      ],
      "text/plain": [
       "| 6       | 252.342ms    | 0.658611          | 0.811536              | 0.0254734   |"
      ]
     },
     "metadata": {},
     "output_type": "display_data"
    },
    {
     "data": {
      "text/html": [
       "<pre>| 11      | 462.961ms    | 0.55429           | 0.744486              | 0.016168    |</pre>"
      ],
      "text/plain": [
       "| 11      | 462.961ms    | 0.55429           | 0.744486              | 0.016168    |"
      ]
     },
     "metadata": {},
     "output_type": "display_data"
    },
    {
     "data": {
      "text/html": [
       "<pre>| 25      | 1.08s        | 0.489042          | 0.699286              | 0.00873464  |</pre>"
      ],
      "text/plain": [
       "| 25      | 1.08s        | 0.489042          | 0.699286              | 0.00873464  |"
      ]
     },
     "metadata": {},
     "output_type": "display_data"
    },
    {
     "data": {
      "text/html": [
       "<pre>| 50      | 2.12s        | 0.460743          | 0.678744              | 0.00519365  |</pre>"
      ],
      "text/plain": [
       "| 50      | 2.12s        | 0.460743          | 0.678744              | 0.00519365  |"
      ]
     },
     "metadata": {},
     "output_type": "display_data"
    },
    {
     "data": {
      "text/html": [
       "<pre>+---------+--------------+-------------------+-----------------------+-------------+</pre>"
      ],
      "text/plain": [
       "+---------+--------------+-------------------+-----------------------+-------------+"
      ]
     },
     "metadata": {},
     "output_type": "display_data"
    },
    {
     "data": {
      "text/html": [
       "<pre>Optimization Complete: Maximum number of passes through the data reached.</pre>"
      ],
      "text/plain": [
       "Optimization Complete: Maximum number of passes through the data reached."
      ]
     },
     "metadata": {},
     "output_type": "display_data"
    },
    {
     "data": {
      "text/html": [
       "<pre>Computing final objective value and training RMSE.</pre>"
      ],
      "text/plain": [
       "Computing final objective value and training RMSE."
      ]
     },
     "metadata": {},
     "output_type": "display_data"
    },
    {
     "data": {
      "text/html": [
       "<pre>       Final objective value: 0.436713</pre>"
      ],
      "text/plain": [
       "       Final objective value: 0.436713"
      ]
     },
     "metadata": {},
     "output_type": "display_data"
    },
    {
     "data": {
      "text/html": [
       "<pre>       Final training RMSE: 0.660806</pre>"
      ],
      "text/plain": [
       "       Final training RMSE: 0.660806"
      ]
     },
     "metadata": {},
     "output_type": "display_data"
    },
    {
     "name": "stdout",
     "output_type": "stream",
     "text": [
      "+---------+---------+---------------+------+\n",
      "| user_id | item_id |     score     | rank |\n",
      "+---------+---------+---------------+------+\n",
      "|    1    |   647   | 5.88846325595 |  1   |\n",
      "|    1    |   1558  | 5.76875233371 |  2   |\n",
      "|    1    |   1449  | 5.29550504405 |  3   |\n",
      "|    1    |   169   | 5.22946226317 |  4   |\n",
      "|    1    |   408   | 5.19984125811 |  5   |\n",
      "|    2    |   1142  | 5.22631316073 |  1   |\n",
      "|    2    |   963   | 5.20112697966 |  2   |\n",
      "|    2    |   1512  | 5.19474129565 |  3   |\n",
      "|    2    |   1449  | 5.18102841265 |  4   |\n",
      "|    2    |   135   | 5.11270611174 |  5   |\n",
      "|    3    |   525   | 5.18382458109 |  1   |\n",
      "|    3    |   1167  |  5.0968926372 |  2   |\n",
      "|    3    |   493   | 5.09543780703 |  3   |\n",
      "|    3    |   647   | 5.08862523455 |  4   |\n",
      "|    3    |   165   | 5.02265958208 |  5   |\n",
      "|    4    |   1512  | 6.85721234698 |  1   |\n",
      "|    4    |   1558  | 6.82097010035 |  2   |\n",
      "|    4    |   641   | 6.69114617724 |  3   |\n",
      "|    4    |   135   | 6.61692289728 |  4   |\n",
      "|    4    |   1449  | 6.54828671831 |  5   |\n",
      "|    5    |   902   | 7.56037632841 |  1   |\n",
      "|    5    |   647   | 6.88655726332 |  2   |\n",
      "|    5    |   1315  |   6.7995197   |  3   |\n",
      "|    5    |   299   | 6.62412945647 |  4   |\n",
      "|    5    |   583   | 6.36420838255 |  5   |\n",
      "+---------+---------+---------------+------+\n",
      "[25 rows x 4 columns]\n",
      "\n"
     ]
    }
   ],
   "source": [
    "print(\"_________________facrorization____________________\")\n",
    "factorization_model=graphlab.recommender.factorization_recommender.create(SFrame(train), user_id='user_id',\n",
    "item_id='item_id', target='rating', user_data=None, item_data=None, num_factors=8,\n",
    "regularization=1e-08, linear_regularization=1e-10, side_data_factorization=True,\n",
    "nmf=False, binary_target=False, max_iterations=50, sgd_step_size=0,\n",
    "random_seed=0, solver='auto', verbose=True)\n",
    "\n",
    "factorization_recomm = factorization_model.recommend(users=[1,2,3,4,5],k=5)\n",
    "factorization_recomm.print_rows(num_rows=25)"
   ]
  },
  {
   "cell_type": "markdown",
   "metadata": {},
   "source": [
    "# Item- similarity is used to create a recommender based on users in common.\n",
    "# it uses jaccard similarity type.\n",
    "# jaccard is used to measure the similarity between two set of elements\n",
    "![](jaccard.png)"
   ]
  },
  {
   "cell_type": "code",
   "execution_count": 7,
   "metadata": {
    "collapsed": false
   },
   "outputs": [
    {
     "name": "stdout",
     "output_type": "stream",
     "text": [
      "___________________item similarity_____________________\n"
     ]
    },
    {
     "data": {
      "text/html": [
       "<pre>Recsys training: model = item_similarity</pre>"
      ],
      "text/plain": [
       "Recsys training: model = item_similarity"
      ]
     },
     "metadata": {},
     "output_type": "display_data"
    },
    {
     "data": {
      "text/html": [
       "<pre>Preparing data set.</pre>"
      ],
      "text/plain": [
       "Preparing data set."
      ]
     },
     "metadata": {},
     "output_type": "display_data"
    },
    {
     "data": {
      "text/html": [
       "<pre>    Data has 70000 observations with 943 users and 1625 items.</pre>"
      ],
      "text/plain": [
       "    Data has 70000 observations with 943 users and 1625 items."
      ]
     },
     "metadata": {},
     "output_type": "display_data"
    },
    {
     "data": {
      "text/html": [
       "<pre>    Data prepared in: 0.128008s</pre>"
      ],
      "text/plain": [
       "    Data prepared in: 0.128008s"
      ]
     },
     "metadata": {},
     "output_type": "display_data"
    },
    {
     "data": {
      "text/html": [
       "<pre>Training model from provided data.</pre>"
      ],
      "text/plain": [
       "Training model from provided data."
      ]
     },
     "metadata": {},
     "output_type": "display_data"
    },
    {
     "data": {
      "text/html": [
       "<pre>Gathering per-item and per-user statistics.</pre>"
      ],
      "text/plain": [
       "Gathering per-item and per-user statistics."
      ]
     },
     "metadata": {},
     "output_type": "display_data"
    },
    {
     "data": {
      "text/html": [
       "<pre>+--------------------------------+------------+</pre>"
      ],
      "text/plain": [
       "+--------------------------------+------------+"
      ]
     },
     "metadata": {},
     "output_type": "display_data"
    },
    {
     "data": {
      "text/html": [
       "<pre>| Elapsed Time (Item Statistics) | % Complete |</pre>"
      ],
      "text/plain": [
       "| Elapsed Time (Item Statistics) | % Complete |"
      ]
     },
     "metadata": {},
     "output_type": "display_data"
    },
    {
     "data": {
      "text/html": [
       "<pre>+--------------------------------+------------+</pre>"
      ],
      "text/plain": [
       "+--------------------------------+------------+"
      ]
     },
     "metadata": {},
     "output_type": "display_data"
    },
    {
     "data": {
      "text/html": [
       "<pre>| 8.001ms                        | 100        |</pre>"
      ],
      "text/plain": [
       "| 8.001ms                        | 100        |"
      ]
     },
     "metadata": {},
     "output_type": "display_data"
    },
    {
     "data": {
      "text/html": [
       "<pre>+--------------------------------+------------+</pre>"
      ],
      "text/plain": [
       "+--------------------------------+------------+"
      ]
     },
     "metadata": {},
     "output_type": "display_data"
    },
    {
     "data": {
      "text/html": [
       "<pre>Setting up lookup tables.</pre>"
      ],
      "text/plain": [
       "Setting up lookup tables."
      ]
     },
     "metadata": {},
     "output_type": "display_data"
    },
    {
     "data": {
      "text/html": [
       "<pre>Processing data in one pass using dense lookup tables.</pre>"
      ],
      "text/plain": [
       "Processing data in one pass using dense lookup tables."
      ]
     },
     "metadata": {},
     "output_type": "display_data"
    },
    {
     "data": {
      "text/html": [
       "<pre>+-------------------------------------+------------------+-----------------+</pre>"
      ],
      "text/plain": [
       "+-------------------------------------+------------------+-----------------+"
      ]
     },
     "metadata": {},
     "output_type": "display_data"
    },
    {
     "data": {
      "text/html": [
       "<pre>| Elapsed Time (Constructing Lookups) | Total % Complete | Items Processed |</pre>"
      ],
      "text/plain": [
       "| Elapsed Time (Constructing Lookups) | Total % Complete | Items Processed |"
      ]
     },
     "metadata": {},
     "output_type": "display_data"
    },
    {
     "data": {
      "text/html": [
       "<pre>+-------------------------------------+------------------+-----------------+</pre>"
      ],
      "text/plain": [
       "+-------------------------------------+------------------+-----------------+"
      ]
     },
     "metadata": {},
     "output_type": "display_data"
    },
    {
     "data": {
      "text/html": [
       "<pre>| 20.012ms                            | 0                | 3               |</pre>"
      ],
      "text/plain": [
       "| 20.012ms                            | 0                | 3               |"
      ]
     },
     "metadata": {},
     "output_type": "display_data"
    },
    {
     "data": {
      "text/html": [
       "<pre>| 121.981ms                           | 100              | 1625            |</pre>"
      ],
      "text/plain": [
       "| 121.981ms                           | 100              | 1625            |"
      ]
     },
     "metadata": {},
     "output_type": "display_data"
    },
    {
     "data": {
      "text/html": [
       "<pre>+-------------------------------------+------------------+-----------------+</pre>"
      ],
      "text/plain": [
       "+-------------------------------------+------------------+-----------------+"
      ]
     },
     "metadata": {},
     "output_type": "display_data"
    },
    {
     "data": {
      "text/html": [
       "<pre>Finalizing lookup tables.</pre>"
      ],
      "text/plain": [
       "Finalizing lookup tables."
      ]
     },
     "metadata": {},
     "output_type": "display_data"
    },
    {
     "data": {
      "text/html": [
       "<pre>Generating candidate set for working with new users.</pre>"
      ],
      "text/plain": [
       "Generating candidate set for working with new users."
      ]
     },
     "metadata": {},
     "output_type": "display_data"
    },
    {
     "data": {
      "text/html": [
       "<pre>Finished training in 0.137607s</pre>"
      ],
      "text/plain": [
       "Finished training in 0.137607s"
      ]
     },
     "metadata": {},
     "output_type": "display_data"
    },
    {
     "name": "stdout",
     "output_type": "stream",
     "text": [
      "+---------+---------+-----------------+------+\n",
      "| user_id | item_id |      score      | rank |\n",
      "+---------+---------+-----------------+------+\n",
      "|    1    |   265   | 0.0966830197926 |  1   |\n",
      "|    1    |   423   | 0.0956051677138 |  2   |\n",
      "|    1    |   566   | 0.0952553369187 |  3   |\n",
      "|    1    |    82   | 0.0940276128905 |  4   |\n",
      "|    1    |   204   | 0.0915050997839 |  5   |\n",
      "|    2    |   117   |  0.109276761842 |  1   |\n",
      "|    2    |   121   |  0.106949445813 |  2   |\n",
      "|    2    |    7    |  0.106531629729 |  3   |\n",
      "|    2    |    1    | 0.0974355492481 |  4   |\n",
      "|    2    |   118   | 0.0944340353788 |  5   |\n",
      "|    3    |   333   | 0.0938007673796 |  1   |\n",
      "|    3    |   307   | 0.0928900715183 |  2   |\n",
      "|    3    |   328   |  0.09112144919  |  3   |\n",
      "|    3    |   258   | 0.0862946036984 |  4   |\n",
      "|    3    |   678   | 0.0832795132609 |  5   |\n",
      "|    4    |   333   | 0.0971478765661 |  1   |\n",
      "|    4    |   300   | 0.0941385843537 |  2   |\n",
      "|    4    |    7    | 0.0871936949817 |  3   |\n",
      "|    4    |   302   | 0.0871502540328 |  4   |\n",
      "|    4    |   326   | 0.0847617225213 |  5   |\n",
      "|    5    |    82   |  0.104103591707 |  1   |\n",
      "|    5    |   265   | 0.0973993847294 |  2   |\n",
      "|    5    |   195   | 0.0949796632169 |  3   |\n",
      "|    5    |   216   | 0.0901046139853 |  4   |\n",
      "|    5    |   196   | 0.0858317831206 |  5   |\n",
      "+---------+---------+-----------------+------+\n",
      "[25 rows x 4 columns]\n",
      "\n"
     ]
    }
   ],
   "source": [
    "\n",
    "print(\"___________________item similarity_____________________\")\n",
    "item_similarity_model = graphlab.item_similarity_recommender.create(SFrame(train), user_id='user_id', item_id='item_id',\n",
    "                                                                    target='rating', similarity_type='jaccard')\n",
    "\n",
    "#Making recommendations\n",
    "item_similarity_recomm = item_similarity_model.recommend(users=[1,2,3,4,5],k=5)\n",
    "item_similarity_recomm.print_rows(num_rows=25)"
   ]
  },
  {
   "cell_type": "code",
   "execution_count": null,
   "metadata": {
    "collapsed": true
   },
   "outputs": [],
   "source": []
  },
  {
   "cell_type": "code",
   "execution_count": null,
   "metadata": {
    "collapsed": true
   },
   "outputs": [],
   "source": []
  }
 ],
 "metadata": {
  "kernelspec": {
   "display_name": "Python 2",
   "language": "python",
   "name": "python2"
  },
  "language_info": {
   "codemirror_mode": {
    "name": "ipython",
    "version": 2
   },
   "file_extension": ".py",
   "mimetype": "text/x-python",
   "name": "python",
   "nbconvert_exporter": "python",
   "pygments_lexer": "ipython2",
   "version": "2.7.13"
  }
 },
 "nbformat": 4,
 "nbformat_minor": 0
}
